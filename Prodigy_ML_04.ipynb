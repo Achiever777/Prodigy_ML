{
  "nbformat": 4,
  "nbformat_minor": 0,
  "metadata": {
    "colab": {
      "provenance": [],
      "authorship_tag": "ABX9TyPwN2DXvfKNhcK1jJ0Dv7h4",
      "include_colab_link": true
    },
    "kernelspec": {
      "name": "python3",
      "display_name": "Python 3"
    },
    "language_info": {
      "name": "python"
    }
  },
  "cells": [
    {
      "cell_type": "markdown",
      "metadata": {
        "id": "view-in-github",
        "colab_type": "text"
      },
      "source": [
        "<a href=\"https://colab.research.google.com/github/Achiever777/Prodigy_ML/blob/main/Prodigy_ML_04.ipynb\" target=\"_parent\"><img src=\"https://colab.research.google.com/assets/colab-badge.svg\" alt=\"Open In Colab\"/></a>"
      ]
    },
    {
      "cell_type": "code",
      "source": [
        "import time\n",
        "\n",
        "def introduction():\n",
        "    print(\"Welcome to the Adventure Game!\")\n",
        "    time.sleep(1)\n",
        "    print(\"You find yourself in a mysterious forest.\")\n",
        "\n",
        "def make_choice(question, options):\n",
        "    print(question)\n",
        "    for i, option in enumerate(options, 1):\n",
        "        print(f\"{i}. {option}\")\n",
        "\n",
        "    while True:\n",
        "        try:\n",
        "            choice = int(input(\"Enter the number of your choice: \"))\n",
        "            if 1 <= choice <= len(options):\n",
        "                return choice\n",
        "            else:\n",
        "                print(\"Invalid choice. Please enter a valid number.\")\n",
        "        except ValueError:\n",
        "            print(\"Invalid input. Please enter a number.\")\n",
        "\n",
        "def main():\n",
        "    introduction()\n",
        "\n",
        "    choices = {\n",
        "        1: \"You decide to explore deeper into the forest.\",\n",
        "        2: \"You choose to follow a mysterious path.\",\n",
        "        3: \"You decide to climb a tree to get a better view.\"\n",
        "    }\n",
        "\n",
        "    total_score = 0\n",
        "\n",
        "    for _ in range(3):\n",
        "        choice = make_choice(\"What do you want to do?\", choices.values())\n",
        "        print(choices[choice])\n",
        "\n",
        "        # Adjust the score based on the player's choices\n",
        "        if choice == 1:\n",
        "            total_score += 10\n",
        "        elif choice == 2:\n",
        "            total_score += 5\n",
        "        else:\n",
        "            total_score -= 5\n",
        "\n",
        "        time.sleep(1)\n",
        "\n",
        "    print(f\"\\nGame over! Your total score is {total_score}.\")\n",
        "\n",
        "if __name__ == \"__main__\":\n",
        "    main()"
      ],
      "metadata": {
        "colab": {
          "base_uri": "https://localhost:8080/"
        },
        "id": "yz2FkwHd8AJw",
        "outputId": "8c5cf295-6328-49b9-800b-596e3d2e3eaa"
      },
      "execution_count": 1,
      "outputs": [
        {
          "output_type": "stream",
          "name": "stdout",
          "text": [
            "Welcome to the Adventure Game!\n",
            "You find yourself in a mysterious forest.\n",
            "What do you want to do?\n",
            "1. You decide to explore deeper into the forest.\n",
            "2. You choose to follow a mysterious path.\n",
            "3. You decide to climb a tree to get a better view.\n",
            "Enter the number of your choice: 1\n",
            "You decide to explore deeper into the forest.\n",
            "What do you want to do?\n",
            "1. You decide to explore deeper into the forest.\n",
            "2. You choose to follow a mysterious path.\n",
            "3. You decide to climb a tree to get a better view.\n",
            "Enter the number of your choice: 3\n",
            "You decide to climb a tree to get a better view.\n",
            "What do you want to do?\n",
            "1. You decide to explore deeper into the forest.\n",
            "2. You choose to follow a mysterious path.\n",
            "3. You decide to climb a tree to get a better view.\n",
            "Enter the number of your choice: 6\n",
            "Invalid choice. Please enter a valid number.\n",
            "Enter the number of your choice: 2\n",
            "You choose to follow a mysterious path.\n",
            "\n",
            "Game over! Your total score is 10.\n"
          ]
        }
      ]
    }
  ]
}